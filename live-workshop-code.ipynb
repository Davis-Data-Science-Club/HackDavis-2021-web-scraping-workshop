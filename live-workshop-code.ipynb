{
 "metadata": {
  "language_info": {
   "codemirror_mode": {
    "name": "ipython",
    "version": 3
   },
   "file_extension": ".py",
   "mimetype": "text/x-python",
   "name": "python",
   "nbconvert_exporter": "python",
   "pygments_lexer": "ipython3",
   "version": "3.8.3-final"
  },
  "orig_nbformat": 2,
  "kernelspec": {
   "name": "python38364bit1305bd2502b8430aa90074e410b41d85",
   "display_name": "Python 3.8.3 64-bit",
   "language": "python"
  }
 },
 "nbformat": 4,
 "nbformat_minor": 2,
 "cells": [
  {
   "source": [
    "## Import libraries"
   ],
   "cell_type": "markdown",
   "metadata": {}
  },
  {
   "cell_type": "code",
   "execution_count": 1,
   "metadata": {},
   "outputs": [],
   "source": [
    "from bs4 import BeautifulSoup\n",
    "import pandas as pd\n",
    "import requests"
   ]
  },
  {
   "cell_type": "code",
   "execution_count": 2,
   "metadata": {},
   "outputs": [],
   "source": [
    "artist_name = 'Nirvana'\n",
    "artist_URL = 'https://genius.com/artists/' + artist_name.replace(' ', '-')\n",
    "response = requests.get(artist_URL)\n",
    "\n",
    "# Artist page html\n",
    "soup = BeautifulSoup(response.content, 'html.parser')"
   ]
  },
  {
   "source": [
    "## Get links to album"
   ],
   "cell_type": "markdown",
   "metadata": {}
  },
  {
   "cell_type": "code",
   "execution_count": 3,
   "metadata": {},
   "outputs": [
    {
     "output_type": "execute_result",
     "data": {
      "text/plain": [
       "{'Nevermind (Deluxe Edition)': {'album_name': 'Nevermind (Deluxe Edition)',\n",
       "  'album_link': 'https://genius.com/albums/Nirvana/Nevermind-deluxe-edition'},\n",
       " 'Nevermind (Super Deluxe Edition)': {'album_name': 'Nevermind (Super Deluxe Edition)',\n",
       "  'album_link': 'https://genius.com/albums/Nirvana/Nevermind-super-deluxe-edition'},\n",
       " 'Live At The Paramount': {'album_name': 'Live At The Paramount',\n",
       "  'album_link': 'https://genius.com/albums/Nirvana/Live-at-the-paramount'},\n",
       " 'Icon ': {'album_name': 'Icon ',\n",
       "  'album_link': 'https://genius.com/albums/Nirvana/Icon'},\n",
       " 'Live at Reading': {'album_name': 'Live at Reading',\n",
       "  'album_link': 'https://genius.com/albums/Nirvana/Live-at-reading'},\n",
       " 'Sliver: The Best of the Box': {'album_name': 'Sliver: The Best of the Box',\n",
       "  'album_link': 'https://genius.com/albums/Nirvana/Sliver-the-best-of-the-box'}}"
      ]
     },
     "metadata": {},
     "execution_count": 3
    }
   ],
   "source": [
    "# Get album links \n",
    "albums = {}\n",
    "album_names = []\n",
    "album_links = []\n",
    "\n",
    "for a in soup.find_all('a', class_=\"vertical_album_card\"):\n",
    "    albums[a['title']] = {\n",
    "        'album_name': a['title'],\n",
    "        'album_link': a['href'],\n",
    "    }\n",
    "    album_names.append(a['title'])\n",
    "    album_links.append(a['href'])\n",
    "albums"
   ]
  },
  {
   "source": [
    "## Parse song data from each album page"
   ],
   "cell_type": "markdown",
   "metadata": {}
  },
  {
   "cell_type": "code",
   "execution_count": 4,
   "metadata": {},
   "outputs": [],
   "source": [
    "for album in albums.keys():\n",
    "    response = requests.get(albums[album]['album_link'])\n",
    "    soup = BeautifulSoup(response.content, 'html.parser')\n",
    "\n",
    "    # Get song names\n",
    "    unclean_songs = soup.find_all('h3', class_='chart_row-content-title')\n",
    "    song_names =  []\n",
    "\n",
    "    # Clean up song name data before saving\n",
    "    for unclean_song_name in unclean_songs:\n",
    "        clean_song_name = unclean_song_name.text\n",
    "        clean_song_name = clean_song_name[0:-10].strip()\n",
    "        song_names.append(clean_song_name)\n",
    "\n",
    "    albums[album]['songs'] = song_names\n",
    "\n",
    "    # Get album release date\n",
    "    release_date = soup.find('div', class_='metadata_unit')\n",
    "    albums[album]['release_date'] = release_date.text[len('Released '):]\n"
   ]
  },
  {
   "source": [
    "## Put album data into pandas dataframe"
   ],
   "cell_type": "markdown",
   "metadata": {}
  },
  {
   "cell_type": "code",
   "execution_count": 5,
   "metadata": {},
   "outputs": [
    {
     "output_type": "execute_result",
     "data": {
      "text/plain": [
       "   artist_name                   album_name        release_year  \\\n",
       "0      Nirvana   Nevermind (Deluxe Edition)  September 27, 2011   \n",
       "0      Nirvana   Nevermind (Deluxe Edition)  September 27, 2011   \n",
       "0      Nirvana   Nevermind (Deluxe Edition)  September 27, 2011   \n",
       "0      Nirvana   Nevermind (Deluxe Edition)  September 27, 2011   \n",
       "0      Nirvana   Nevermind (Deluxe Edition)  September 27, 2011   \n",
       "..         ...                          ...                 ...   \n",
       "0      Nirvana  Sliver: The Best of the Box    November 1, 2005   \n",
       "0      Nirvana  Sliver: The Best of the Box    November 1, 2005   \n",
       "0      Nirvana  Sliver: The Best of the Box    November 1, 2005   \n",
       "0      Nirvana  Sliver: The Best of the Box    November 1, 2005   \n",
       "0      Nirvana  Sliver: The Best of the Box    November 1, 2005   \n",
       "\n",
       "                  song_name  \n",
       "0   Smells Like Teen Spirit  \n",
       "0                  In Bloom  \n",
       "0           Come As You Are  \n",
       "0                     Breed  \n",
       "0                   Lithium  \n",
       "..                      ...  \n",
       "0          Heart-Shaped Box  \n",
       "0                  Do Re Mi  \n",
       "0     You Know You're Right  \n",
       "0             All Apologies  \n",
       "0   Heart-Shaped Box (Demo)  \n",
       "\n",
       "[187 rows x 4 columns]"
      ],
      "text/html": "<div>\n<style scoped>\n    .dataframe tbody tr th:only-of-type {\n        vertical-align: middle;\n    }\n\n    .dataframe tbody tr th {\n        vertical-align: top;\n    }\n\n    .dataframe thead th {\n        text-align: right;\n    }\n</style>\n<table border=\"1\" class=\"dataframe\">\n  <thead>\n    <tr style=\"text-align: right;\">\n      <th></th>\n      <th>artist_name</th>\n      <th>album_name</th>\n      <th>release_year</th>\n      <th>song_name</th>\n    </tr>\n  </thead>\n  <tbody>\n    <tr>\n      <th>0</th>\n      <td>Nirvana</td>\n      <td>Nevermind (Deluxe Edition)</td>\n      <td>September 27, 2011</td>\n      <td>Smells Like Teen Spirit</td>\n    </tr>\n    <tr>\n      <th>0</th>\n      <td>Nirvana</td>\n      <td>Nevermind (Deluxe Edition)</td>\n      <td>September 27, 2011</td>\n      <td>In Bloom</td>\n    </tr>\n    <tr>\n      <th>0</th>\n      <td>Nirvana</td>\n      <td>Nevermind (Deluxe Edition)</td>\n      <td>September 27, 2011</td>\n      <td>Come As You Are</td>\n    </tr>\n    <tr>\n      <th>0</th>\n      <td>Nirvana</td>\n      <td>Nevermind (Deluxe Edition)</td>\n      <td>September 27, 2011</td>\n      <td>Breed</td>\n    </tr>\n    <tr>\n      <th>0</th>\n      <td>Nirvana</td>\n      <td>Nevermind (Deluxe Edition)</td>\n      <td>September 27, 2011</td>\n      <td>Lithium</td>\n    </tr>\n    <tr>\n      <th>...</th>\n      <td>...</td>\n      <td>...</td>\n      <td>...</td>\n      <td>...</td>\n    </tr>\n    <tr>\n      <th>0</th>\n      <td>Nirvana</td>\n      <td>Sliver: The Best of the Box</td>\n      <td>November 1, 2005</td>\n      <td>Heart-Shaped Box</td>\n    </tr>\n    <tr>\n      <th>0</th>\n      <td>Nirvana</td>\n      <td>Sliver: The Best of the Box</td>\n      <td>November 1, 2005</td>\n      <td>Do Re Mi</td>\n    </tr>\n    <tr>\n      <th>0</th>\n      <td>Nirvana</td>\n      <td>Sliver: The Best of the Box</td>\n      <td>November 1, 2005</td>\n      <td>You Know You're Right</td>\n    </tr>\n    <tr>\n      <th>0</th>\n      <td>Nirvana</td>\n      <td>Sliver: The Best of the Box</td>\n      <td>November 1, 2005</td>\n      <td>All Apologies</td>\n    </tr>\n    <tr>\n      <th>0</th>\n      <td>Nirvana</td>\n      <td>Sliver: The Best of the Box</td>\n      <td>November 1, 2005</td>\n      <td>Heart-Shaped Box (Demo)</td>\n    </tr>\n  </tbody>\n</table>\n<p>187 rows × 4 columns</p>\n</div>"
     },
     "metadata": {},
     "execution_count": 5
    }
   ],
   "source": [
    "# Goal df: \n",
    "# Index, artist_name, album_name, release_year, song_name\n",
    "# int, string, string, string, string\n",
    "\n",
    "rows = list()\n",
    "\n",
    "for album in albums:\n",
    "    for song in albums[album]['songs']:\n",
    "        row = {\n",
    "            'artist_name': [artist_name],\n",
    "            'album_name': [albums[album]['album_name']],\n",
    "            'release_year': [albums[album]['release_date']],\n",
    "            'song_name': [song],\n",
    "        }\n",
    "\n",
    "        row = pd.DataFrame.from_dict(row)\n",
    "\n",
    "        rows.append(row)\n",
    "\n",
    "df = pd.concat(rows)\n",
    "df"
   ]
  },
  {
   "cell_type": "code",
   "execution_count": 6,
   "metadata": {},
   "outputs": [],
   "source": [
    "df.to_csv('live-workshop-song-data.csv')"
   ]
  }
 ]
}